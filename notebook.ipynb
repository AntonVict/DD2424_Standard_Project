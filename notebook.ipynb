{
 "cells": [
  {
   "cell_type": "code",
   "execution_count": null,
   "id": "a8e9a4d8",
   "metadata": {},
   "outputs": [
    {
     "name": "stderr",
     "output_type": "stream",
     "text": [
      "0.9%"
     ]
    },
    {
     "name": "stdout",
     "output_type": "stream",
     "text": [
      "Downloading: \"https://download.pytorch.org/models/resnet34-b627a593.pth\" to C:\\Users\\Anton/.cache\\torch\\hub\\checkpoints\\resnet34-b627a593.pth\n"
     ]
    },
    {
     "name": "stderr",
     "output_type": "stream",
     "text": [
      "100.0%\n"
     ]
    }
   ],
   "source": [
    "# Project beginning\n",
    "\n",
    "import torch\n",
    "import torchvision.models as models\n",
    "resnet34 = models.resnet34(weights= \"IMAGENET1K_V1\")"
   ]
  },
  {
   "cell_type": "code",
   "execution_count": 13,
   "id": "d4efdc51",
   "metadata": {},
   "outputs": [
    {
     "name": "stdout",
     "output_type": "stream",
     "text": [
      "torch.Size([1, 1000])\n"
     ]
    }
   ],
   "source": [
    "dummy_input = torch.randn(1, 3, 600, 224)\n",
    "output = resnet34(dummy_input)\n",
    "print(output.shape)"
   ]
  },
  {
   "cell_type": "code",
   "execution_count": 14,
   "id": "35129cd6",
   "metadata": {},
   "outputs": [],
   "source": [
    "# Print the full model architecture\n",
    "# print(resnet34)\n",
    "\n",
    "# # List all named children (main blocks)\n",
    "# for name, module in resnet34.named_children():\n",
    "#     print(f\"{name}: {module}\")"
   ]
  },
  {
   "cell_type": "code",
   "execution_count": null,
   "id": "3760a038",
   "metadata": {},
   "outputs": [],
   "source": [
    "import os\n",
    "from PIL import Image\n",
    "from torch.utils.data import Dataset, DataLoader\n",
    "from torchvision import transforms\n",
    "\n",
    "class PetDataset(Dataset):\n",
    "    def __init__(self, data_dir, split_file, classes, train=True):\n",
    "        \"\"\"\n",
    "        data_dir/\n",
    "          images/*.jpg\n",
    "          annotations/trainval.txt\n",
    "          annotations/test.txt\n",
    "        split_file: path to trainval.txt or test.txt\n",
    "        classes: list of breed names in order (1–37)\n",
    "        \"\"\"\n",
    "        self.img_dir = os.path.join(data_dir, \"images\")\n",
    "        self.samples = []  # list of (img_path, label)\n",
    "        for line in open(split_file):\n",
    "            name, classID, species, _ = line.split()\n",
    "            label = int(classID) - 1         # breed label 0–36\n",
    "            self.samples.append((f\"{name}.jpg\", label))\n",
    "        # simple 224×224 resize + norm\n",
    "        self.tfms = transforms.Compose([\n",
    "            transforms.Resize((224, 224)),\n",
    "            transforms.ToTensor(),\n",
    "            transforms.Normalize(\n",
    "                mean=[0.485,0.456,0.406], \n",
    "                std=[0.229,0.224,0.225]\n",
    "            )\n",
    "        ])\n",
    "\n",
    "    def __len__(self):\n",
    "        return len(self.samples)\n",
    "\n",
    "    def __getitem__(self, idx):\n",
    "        fname, label = self.samples[idx]\n",
    "        img = Image.open(os.path.join(self.img_dir, fname)).convert(\"RGB\")\n",
    "        return self.tfms(img), label\n",
    "\n",
    "# Usage:\n",
    "data_dir = \"data\"\n",
    "breed_names = sorted({ line.split()[0].rsplit(\"_\",1)[0]\n",
    "                      for line in open(os.path.join(data_dir,\"annotations\",\"trainval.txt\")) })\n",
    "train_ds = PetDataset(data_dir, \n",
    "                      split_file=os.path.join(data_dir,\"annotations\",\"trainval.txt\"),\n",
    "                      classes=breed_names)\n",
    "test_ds  = PetDataset(data_dir, \n",
    "                      split_file=os.path.join(data_dir,\"annotations\",\"test.txt\"),\n",
    "                      classes=breed_names)\n",
    "\n",
    "train_dl = DataLoader(train_ds, batch_size=32, shuffle=True,  num_workers=4)\n",
    "test_dl  = DataLoader(test_ds,  batch_size=32, shuffle=False, num_workers=4)"
   ]
  },
  {
   "cell_type": "code",
   "execution_count": 17,
   "id": "e0723c43",
   "metadata": {},
   "outputs": [
    {
     "data": {
      "text/plain": [
       "<torch.utils.data.dataloader.DataLoader at 0x1bceec18d00>"
      ]
     },
     "execution_count": 17,
     "metadata": {},
     "output_type": "execute_result"
    }
   ],
   "source": [
    "train_dl"
   ]
  }
 ],
 "metadata": {
  "kernelspec": {
   "display_name": ".venv",
   "language": "python",
   "name": "python3"
  },
  "language_info": {
   "codemirror_mode": {
    "name": "ipython",
    "version": 3
   },
   "file_extension": ".py",
   "mimetype": "text/x-python",
   "name": "python",
   "nbconvert_exporter": "python",
   "pygments_lexer": "ipython3",
   "version": "3.9.18"
  }
 },
 "nbformat": 4,
 "nbformat_minor": 5
}
