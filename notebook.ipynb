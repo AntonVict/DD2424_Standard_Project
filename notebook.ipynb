{
 "cells": [
  {
   "cell_type": "code",
   "execution_count": 2,
   "id": "a8e9a4d8",
   "metadata": {},
   "outputs": [],
   "source": [
    "# Project beginning\n",
    "\n",
    "import torch\n",
    "import torchvision.models as models\n",
    "resnet34 = models.resnet34(weights= \"IMAGENET1K_V1\")"
   ]
  },
  {
   "cell_type": "code",
   "execution_count": 3,
   "id": "d4efdc51",
   "metadata": {},
   "outputs": [
    {
     "name": "stdout",
     "output_type": "stream",
     "text": [
      "torch.Size([1, 1000])\n"
     ]
    }
   ],
   "source": [
    "dummy_input = torch.randn(1, 3, 600, 224)\n",
    "output = resnet34(dummy_input)\n",
    "print(output.shape)"
   ]
  },
  {
   "cell_type": "code",
   "execution_count": 4,
   "id": "35129cd6",
   "metadata": {},
   "outputs": [],
   "source": [
    "# Print the full model architecture\n",
    "# print(resnet34)\n",
    "\n",
    "# # List all named children (main blocks)\n",
    "# for name, module in resnet34.named_children():\n",
    "#     print(f\"{name}: {module}\")"
   ]
  },
  {
   "cell_type": "code",
   "execution_count": 5,
   "id": "3760a038",
   "metadata": {},
   "outputs": [
    {
     "ename": "FileNotFoundError",
     "evalue": "[Errno 2] No such file or directory: 'data/annotations/trainval.txt'",
     "output_type": "error",
     "traceback": [
      "\u001b[0;31m---------------------------------------------------------------------------\u001b[0m",
      "\u001b[0;31mFileNotFoundError\u001b[0m                         Traceback (most recent call last)",
      "Cell \u001b[0;32mIn[5], line 43\u001b[0m\n\u001b[1;32m     40\u001b[0m \u001b[38;5;66;03m# Usage:\u001b[39;00m\n\u001b[1;32m     41\u001b[0m data_dir \u001b[38;5;241m=\u001b[39m \u001b[38;5;124m\"\u001b[39m\u001b[38;5;124mdata\u001b[39m\u001b[38;5;124m\"\u001b[39m\n\u001b[1;32m     42\u001b[0m breed_names \u001b[38;5;241m=\u001b[39m \u001b[38;5;28msorted\u001b[39m({ line\u001b[38;5;241m.\u001b[39msplit()[\u001b[38;5;241m0\u001b[39m]\u001b[38;5;241m.\u001b[39mrsplit(\u001b[38;5;124m\"\u001b[39m\u001b[38;5;124m_\u001b[39m\u001b[38;5;124m\"\u001b[39m,\u001b[38;5;241m1\u001b[39m)[\u001b[38;5;241m0\u001b[39m]\n\u001b[0;32m---> 43\u001b[0m                       \u001b[38;5;28;01mfor\u001b[39;00m line \u001b[38;5;129;01min\u001b[39;00m \u001b[38;5;28mopen\u001b[39m(os\u001b[38;5;241m.\u001b[39mpath\u001b[38;5;241m.\u001b[39mjoin(data_dir,\u001b[38;5;124m\"\u001b[39m\u001b[38;5;124mannotations\u001b[39m\u001b[38;5;124m\"\u001b[39m,\u001b[38;5;124m\"\u001b[39m\u001b[38;5;124mtrainval.txt\u001b[39m\u001b[38;5;124m\"\u001b[39m)) })\n\u001b[1;32m     44\u001b[0m train_ds \u001b[38;5;241m=\u001b[39m PetDataset(data_dir, \n\u001b[1;32m     45\u001b[0m                       split_file\u001b[38;5;241m=\u001b[39mos\u001b[38;5;241m.\u001b[39mpath\u001b[38;5;241m.\u001b[39mjoin(data_dir,\u001b[38;5;124m\"\u001b[39m\u001b[38;5;124mannotations\u001b[39m\u001b[38;5;124m\"\u001b[39m,\u001b[38;5;124m\"\u001b[39m\u001b[38;5;124mtrainval.txt\u001b[39m\u001b[38;5;124m\"\u001b[39m),\n\u001b[1;32m     46\u001b[0m                       classes\u001b[38;5;241m=\u001b[39mbreed_names)\n\u001b[1;32m     47\u001b[0m test_ds  \u001b[38;5;241m=\u001b[39m PetDataset(data_dir, \n\u001b[1;32m     48\u001b[0m                       split_file\u001b[38;5;241m=\u001b[39mos\u001b[38;5;241m.\u001b[39mpath\u001b[38;5;241m.\u001b[39mjoin(data_dir,\u001b[38;5;124m\"\u001b[39m\u001b[38;5;124mannotations\u001b[39m\u001b[38;5;124m\"\u001b[39m,\u001b[38;5;124m\"\u001b[39m\u001b[38;5;124mtest.txt\u001b[39m\u001b[38;5;124m\"\u001b[39m),\n\u001b[1;32m     49\u001b[0m                       classes\u001b[38;5;241m=\u001b[39mbreed_names)\n",
      "File \u001b[0;32m/opt/homebrew/anaconda3/lib/python3.12/site-packages/IPython/core/interactiveshell.py:324\u001b[0m, in \u001b[0;36m_modified_open\u001b[0;34m(file, *args, **kwargs)\u001b[0m\n\u001b[1;32m    317\u001b[0m \u001b[38;5;28;01mif\u001b[39;00m file \u001b[38;5;129;01min\u001b[39;00m {\u001b[38;5;241m0\u001b[39m, \u001b[38;5;241m1\u001b[39m, \u001b[38;5;241m2\u001b[39m}:\n\u001b[1;32m    318\u001b[0m     \u001b[38;5;28;01mraise\u001b[39;00m \u001b[38;5;167;01mValueError\u001b[39;00m(\n\u001b[1;32m    319\u001b[0m         \u001b[38;5;124mf\u001b[39m\u001b[38;5;124m\"\u001b[39m\u001b[38;5;124mIPython won\u001b[39m\u001b[38;5;124m'\u001b[39m\u001b[38;5;124mt let you open fd=\u001b[39m\u001b[38;5;132;01m{\u001b[39;00mfile\u001b[38;5;132;01m}\u001b[39;00m\u001b[38;5;124m by default \u001b[39m\u001b[38;5;124m\"\u001b[39m\n\u001b[1;32m    320\u001b[0m         \u001b[38;5;124m\"\u001b[39m\u001b[38;5;124mas it is likely to crash IPython. If you know what you are doing, \u001b[39m\u001b[38;5;124m\"\u001b[39m\n\u001b[1;32m    321\u001b[0m         \u001b[38;5;124m\"\u001b[39m\u001b[38;5;124myou can use builtins\u001b[39m\u001b[38;5;124m'\u001b[39m\u001b[38;5;124m open.\u001b[39m\u001b[38;5;124m\"\u001b[39m\n\u001b[1;32m    322\u001b[0m     )\n\u001b[0;32m--> 324\u001b[0m \u001b[38;5;28;01mreturn\u001b[39;00m io_open(file, \u001b[38;5;241m*\u001b[39margs, \u001b[38;5;241m*\u001b[39m\u001b[38;5;241m*\u001b[39mkwargs)\n",
      "\u001b[0;31mFileNotFoundError\u001b[0m: [Errno 2] No such file or directory: 'data/annotations/trainval.txt'"
     ]
    }
   ],
   "source": [
    "import os\n",
    "from PIL import Image\n",
    "from torch.utils.data import Dataset, DataLoader\n",
    "from torchvision import transforms\n",
    "\n",
    "class PetDataset(Dataset):\n",
    "    def __init__(self, data_dir, split_file, classes, train=True):\n",
    "        \"\"\"\n",
    "        data_dir/\n",
    "          images/*.jpg\n",
    "          annotations/trainval.txt\n",
    "          annotations/test.txt\n",
    "        split_file: path to trainval.txt or test.txt\n",
    "        classes: list of breed names in order (1–37)\n",
    "        \"\"\"\n",
    "        self.img_dir = os.path.join(data_dir, \"images\")\n",
    "        self.samples = []  # list of (img_path, label)\n",
    "        for line in open(split_file):\n",
    "            name, classID, species, _ = line.split()\n",
    "            label = int(classID) - 1         # breed label 0–36\n",
    "            self.samples.append((f\"{name}.jpg\", label))\n",
    "        # simple 224×224 resize + norm\n",
    "        self.tfms = transforms.Compose([\n",
    "            transforms.Resize((224, 224)),\n",
    "            transforms.ToTensor(),\n",
    "            transforms.Normalize(\n",
    "                mean=[0.485,0.456,0.406], \n",
    "                std=[0.229,0.224,0.225]\n",
    "            )\n",
    "        ])\n",
    "\n",
    "    def __len__(self):\n",
    "        return len(self.samples)\n",
    "\n",
    "    def __getitem__(self, idx):\n",
    "        fname, label = self.samples[idx]\n",
    "        img = Image.open(os.path.join(self.img_dir, fname)).convert(\"RGB\")\n",
    "        return self.tfms(img), label\n",
    "\n",
    "# Usage:\n",
    "data_dir = \"data\"\n",
    "breed_names = sorted({ line.split()[0].rsplit(\"_\",1)[0]\n",
    "                      for line in open(os.path.join(data_dir,\"annotations\",\"trainval.txt\")) })\n",
    "train_ds = PetDataset(data_dir, \n",
    "                      split_file=os.path.join(data_dir,\"annotations\",\"trainval.txt\"),\n",
    "                      classes=breed_names)\n",
    "test_ds  = PetDataset(data_dir, \n",
    "                      split_file=os.path.join(data_dir,\"annotations\",\"test.txt\"),\n",
    "                      classes=breed_names)\n",
    "\n",
    "train_dl = DataLoader(train_ds, batch_size=32, shuffle=True,  num_workers=4)\n",
    "test_dl  = DataLoader(test_ds,  batch_size=32, shuffle=False, num_workers=4)"
   ]
  },
  {
   "cell_type": "code",
   "execution_count": null,
   "id": "e0723c43",
   "metadata": {},
   "outputs": [
    {
     "data": {
      "text/plain": [
       "<torch.utils.data.dataloader.DataLoader at 0x1bceec18d00>"
      ]
     },
     "execution_count": 17,
     "metadata": {},
     "output_type": "execute_result"
    }
   ],
   "source": [
    "train_dl"
   ]
  },
  {
   "cell_type": "code",
   "execution_count": null,
   "id": "a1c15dd0",
   "metadata": {},
   "outputs": [],
   "source": []
  },
  {
   "cell_type": "code",
   "execution_count": null,
   "id": "8d08289e",
   "metadata": {},
   "outputs": [],
   "source": []
  }
 ],
 "metadata": {
  "kernelspec": {
   "display_name": "base",
   "language": "python",
   "name": "python3"
  },
  "language_info": {
   "codemirror_mode": {
    "name": "ipython",
    "version": 3
   },
   "file_extension": ".py",
   "mimetype": "text/x-python",
   "name": "python",
   "nbconvert_exporter": "python",
   "pygments_lexer": "ipython3",
   "version": "3.12.7"
  }
 },
 "nbformat": 4,
 "nbformat_minor": 5
}
